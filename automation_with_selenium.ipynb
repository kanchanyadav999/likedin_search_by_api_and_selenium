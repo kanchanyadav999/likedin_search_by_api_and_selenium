{
 "cells": [
  {
   "cell_type": "markdown",
   "id": "da67caaa",
   "metadata": {},
   "source": [
    "# Script 2- Automation using selenium"
   ]
  },
  {
   "cell_type": "code",
   "execution_count": 1,
   "id": "f5861790",
   "metadata": {},
   "outputs": [],
   "source": [
    "# importing essential libraries\n",
    "from selenium import webdriver\n",
    "from selenium.webdriver.common.keys import Keys\n",
    "from selenium.webdriver.common.by import By\n",
    "from selenium.webdriver.support.ui import WebDriverWait\n",
    "from selenium.webdriver.support import expected_conditions as EC\n",
    "from time import sleep\n",
    "import pandas as pd"
   ]
  },
  {
   "cell_type": "code",
   "execution_count": 2,
   "id": "1f61a60f",
   "metadata": {},
   "outputs": [
    {
     "name": "stderr",
     "output_type": "stream",
     "text": [
      "C:\\Users\\admin\\AppData\\Local\\Temp\\ipykernel_16356\\4120023397.py:5: DeprecationWarning: executable_path has been deprecated, please pass in a Service object\n",
      "  driver = webdriver.Edge(edge_driver_path)\n"
     ]
    }
   ],
   "source": [
    "# giving the path for testing our automation\n",
    "edge_driver_path = '/path/to/msedgedriver'\n",
    "\n",
    "# initializing edge webdriver\n",
    "driver = webdriver.Edge(edge_driver_path)"
   ]
  },
  {
   "cell_type": "code",
   "execution_count": null,
   "id": "62252153",
   "metadata": {},
   "outputs": [],
   "source": [
    "# getting out linkedin url into this automation driver\n",
    "driver.get('https://linkedin.com/login/')"
   ]
  },
  {
   "cell_type": "code",
   "execution_count": null,
   "id": "b19b7bb6",
   "metadata": {},
   "outputs": [],
   "source": [
    "# adding email or phone or login\n",
    "username = input(\"\")\n",
    "username_field = WebDriverWait(driver, 10).until(EC.presence_of_element_located((By.ID, 'username')))\n",
    "# the webdriverwait is used to wait for the execution to be done for a certain time here it is waiting for 10 sec before proceeding further.\n",
    "# It is taking two elements first is the driver on which we are searching and second maximum time to wait\n",
    "# 'EC' stands for expected condition\n",
    "# here we are looking for the presence of element id with name as username\n",
    "username_field.send_keys(username)"
   ]
  },
  {
   "cell_type": "code",
   "execution_count": null,
   "id": "2172204a",
   "metadata": {},
   "outputs": [],
   "source": [
    "# adding password for login\n",
    "password = input(\"\")\n",
    "password_field = WebDriverWait(driver, 10).until(EC.presence_of_element_located((By.ID, 'password')))\n",
    "password_field.send_keys(password)"
   ]
  },
  {
   "cell_type": "code",
   "execution_count": null,
   "id": "b5f68ebc",
   "metadata": {},
   "outputs": [],
   "source": [
    "# searching for submit button and submitting the email/phone and password\n",
    "login_button = WebDriverWait(driver, 10).until(EC.element_to_be_clickable((By.XPATH, \"//button[@type='submit']\")))\n",
    "# In this expected condition 'element to be clickable' we are looking a button whose type is submit for submiting our details\n",
    "login_button.click()"
   ]
  },
  {
   "cell_type": "code",
   "execution_count": null,
   "id": "25af5312",
   "metadata": {},
   "outputs": [],
   "source": [
    "# Waiting for the page to load after login\n",
    "WebDriverWait(driver, 10).until(EC.title_contains(\"LinkedIn\"))"
   ]
  },
  {
   "cell_type": "code",
   "execution_count": null,
   "id": "1a0a1a13",
   "metadata": {},
   "outputs": [],
   "source": [
    "# Finding search to search first name and last name \n",
    "search_element = driver.find_element(By.XPATH, '//*[@id=\"global-nav-search\"]')\n",
    "search_element.click()"
   ]
  },
  {
   "cell_type": "code",
   "execution_count": null,
   "id": "6256fe4b",
   "metadata": {},
   "outputs": [],
   "source": [
    "# sleep is used to add delay between the two executions\n",
    "sleep(5)\n",
    "searchbox = WebDriverWait(driver, 22).until(EC.element_to_be_clickable((By.XPATH, \"//input[@placeholder='Search']\")))\n",
    "searchbox.clear()"
   ]
  },
  {
   "cell_type": "code",
   "execution_count": null,
   "id": "b3646551",
   "metadata": {},
   "outputs": [],
   "source": [
    "first_name= input(\"\")\n",
    "last_name= input(\"\")\n",
    "value= first_name + \" \" + last_name\n",
    "# giving value as our text in the search box\n",
    "searchbox.send_keys(value)\n",
    "sleep(10)\n",
    "searchbox.send_keys(Keys.ENTER)\n",
    "sleep(5)\n",
    "# searchbox.send_keys(Keys.ENTER)\n",
    "# the send_key is used to send our keys "
   ]
  },
  {
   "cell_type": "code",
   "execution_count": null,
   "id": "59bff552",
   "metadata": {},
   "outputs": [],
   "source": [
    "# in the below we are searching for clickable element which contains a text 'people' to filter all the which that name.\n",
    "people_filter_button = WebDriverWait(driver, 10).until(EC.element_to_be_clickable((By.XPATH, \"//button[text()='People']\")))\n",
    "people_filter_button.click()"
   ]
  },
  {
   "cell_type": "code",
   "execution_count": null,
   "id": "173f28d8",
   "metadata": {},
   "outputs": [],
   "source": [
    "people_container = WebDriverWait(driver, 10).until(EC.presence_of_element_located((By.CLASS_NAME, \"reusable-search__entity-result-list\")))"
   ]
  },
  {
   "cell_type": "code",
   "execution_count": null,
   "id": "6b581e4b",
   "metadata": {},
   "outputs": [],
   "source": [
    "# Finding all person elements within the container\n",
    "people_elements = people_container.find_elements(By.XPATH, \"./li\")"
   ]
  },
  {
   "cell_type": "code",
   "execution_count": null,
   "id": "537fb127",
   "metadata": {},
   "outputs": [],
   "source": [
    "print(people_elements)\n",
    "# checking list of people present in the container"
   ]
  },
  {
   "cell_type": "code",
   "execution_count": null,
   "id": "c1215b60",
   "metadata": {
    "scrolled": true
   },
   "outputs": [],
   "source": [
    "common_class = \"reusable-search__entity-result-list\"\n",
    "# # checking if the common path contain all the text details which we are fetching for \n",
    "ul_element = driver.find_element(By.CLASS_NAME, common_class)\n",
    "# # Getting the text content of the ul element\n",
    "ul_text = ul_element.text\n",
    "print(f\"Text within ul element: {ul_text}\")"
   ]
  },
  {
   "cell_type": "code",
   "execution_count": null,
   "id": "be317417",
   "metadata": {},
   "outputs": [],
   "source": [
    "dictionary1={}"
   ]
  },
  {
   "cell_type": "code",
   "execution_count": null,
   "id": "721129a8",
   "metadata": {},
   "outputs": [],
   "source": [
    "common_class = \"entity-result__secondary-subtitle\"\n",
    "l1=[]\n",
    "## retrieving the location of each person \n",
    "for i in range(len(people_elements)):\n",
    "    # Finding the element using the class name\n",
    "    if i==2:\n",
    "        continue\n",
    "    else:\n",
    "        associated_element = people_elements[i].find_element(By.CLASS_NAME, common_class)\n",
    "\n",
    "    # Extracting the text\n",
    "    secondary_text = associated_element.text.strip()\n",
    "    l1.append(secondary_text)\n",
    "    # Printing the text\n",
    "    print(i,secondary_text)\n",
    "dictionary1['location']=l1\n"
   ]
  },
  {
   "cell_type": "code",
   "execution_count": null,
   "id": "186bb144",
   "metadata": {},
   "outputs": [],
   "source": [
    "l2=[]\n",
    "common_class = \"entity-result__primary-subtitle\"\n",
    "\n",
    "## retrieving the designation of each person \n",
    "for i in range(len(people_elements)):\n",
    "    if i==2:\n",
    "        continue\n",
    "    else:\n",
    "        # Finding the element using the XPath\n",
    "        associated_element = people_elements[i].find_element(By.CLASS_NAME, common_class)\n",
    "        \n",
    "    # Extracting the text\n",
    "    text = associated_element.text.strip()\n",
    "    l2.append(text)\n",
    "    # Printing the text\n",
    "    print(i,text)\n",
    "dictionary1['designation']= l2"
   ]
  },
  {
   "cell_type": "code",
   "execution_count": null,
   "id": "6cee98e3",
   "metadata": {},
   "outputs": [],
   "source": [
    "common_class = \"app-aware-link\"\n",
    "attribute_value = \"ltr\"\n",
    "l3=[]\n",
    "## retrieving the name of each person \n",
    "for i in range(len(people_elements)):\n",
    "    if i==2:\n",
    "        continue\n",
    "    else:\n",
    "        # Finding the element using the XPath\n",
    "        associated_element = people_elements[i].find_element(By.CSS_SELECTOR, f\".{common_class} [aria-hidden='true']\")\n",
    "\n",
    "        # Extracting the text\n",
    "        name = associated_element.text.strip()\n",
    "        l3.append(name)\n",
    "        # Printing or process the text\n",
    "        print(i,name)\n",
    "dictionary1['name']= l3"
   ]
  },
  {
   "cell_type": "code",
   "execution_count": null,
   "id": "4e922369",
   "metadata": {
    "scrolled": true
   },
   "outputs": [],
   "source": [
    "kanu=[]\n",
    "for i in range(len(people_elements)):\n",
    "    if i==3:\n",
    "        continue\n",
    "    else:\n",
    "    # Get the link\n",
    "        dictionary1[\"Link\"] = people_elements[i].find_element(By.XPATH, f\".//a[contains(@class, 'app-aware-link')]\").get_attribute(\"href\")\n",
    "    print(i,dictionary1['Link'])"
   ]
  },
  {
   "cell_type": "code",
   "execution_count": null,
   "id": "0d935b52",
   "metadata": {},
   "outputs": [],
   "source": [
    "dictionary1"
   ]
  },
  {
   "cell_type": "code",
   "execution_count": null,
   "id": "86d73992",
   "metadata": {},
   "outputs": [],
   "source": [
    "import pandas as pd\n",
    "kan= pd.DataFrame(dictionary1)\n",
    "kan= kan.to_csv('firstname_lastname.csv', index=False)"
   ]
  },
  {
   "cell_type": "code",
   "execution_count": null,
   "id": "dd7b7c4e",
   "metadata": {},
   "outputs": [],
   "source": [
    "kan= pd.read_csv('firstname_lastname.csv')"
   ]
  },
  {
   "cell_type": "code",
   "execution_count": null,
   "id": "c9efc54c",
   "metadata": {},
   "outputs": [],
   "source": [
    "kan"
   ]
  },
  {
   "cell_type": "code",
   "execution_count": null,
   "id": "7b77fd5e",
   "metadata": {},
   "outputs": [],
   "source": []
  },
  {
   "cell_type": "code",
   "execution_count": null,
   "id": "384b240c",
   "metadata": {},
   "outputs": [],
   "source": []
  }
 ],
 "metadata": {
  "kernelspec": {
   "display_name": "Python 3 (ipykernel)",
   "language": "python",
   "name": "python3"
  },
  "language_info": {
   "codemirror_mode": {
    "name": "ipython",
    "version": 3
   },
   "file_extension": ".py",
   "mimetype": "text/x-python",
   "name": "python",
   "nbconvert_exporter": "python",
   "pygments_lexer": "ipython3",
   "version": "3.10.7"
  }
 },
 "nbformat": 4,
 "nbformat_minor": 5
}
